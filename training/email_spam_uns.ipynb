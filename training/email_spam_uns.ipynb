{
 "cells": [
  {
   "cell_type": "code",
   "execution_count": 1,
   "metadata": {},
   "outputs": [
    {
     "name": "stderr",
     "output_type": "stream",
     "text": [
      "/Users/hvn/Documents/teko/HN17/email-check-spam/.venv/lib/python3.11/site-packages/sklearn/base.py:318: UserWarning: Trying to unpickle estimator DecisionTreeClassifier from version 0.24.1 when using version 1.2.2. This might lead to breaking code or invalid results. Use at your own risk. For more info please refer to:\n",
      "https://scikit-learn.org/stable/model_persistence.html#security-maintainability-limitations\n",
      "  warnings.warn(\n",
      "/Users/hvn/Documents/teko/HN17/email-check-spam/.venv/lib/python3.11/site-packages/sklearn/base.py:318: UserWarning: Trying to unpickle estimator RandomForestClassifier from version 0.24.1 when using version 1.2.2. This might lead to breaking code or invalid results. Use at your own risk. For more info please refer to:\n",
      "https://scikit-learn.org/stable/model_persistence.html#security-maintainability-limitations\n",
      "  warnings.warn(\n"
     ]
    }
   ],
   "source": [
    "import pickle\n",
    "\n",
    "loaded_model = pickle.load(open('model/rf_model.sav', 'rb'))"
   ]
  },
  {
   "cell_type": "code",
   "execution_count": 2,
   "metadata": {},
   "outputs": [],
   "source": [
    "import pandas as pd\n",
    "import nltk\n",
    "\n",
    "import re\n",
    "import nltk\n",
    "from nltk.corpus import stopwords\n",
    "from nltk.stem.porter import PorterStemmer\n",
    "from nltk.stem import WordNetLemmatizer\n",
    "from sklearn.feature_extraction.text import TfidfVectorizer\n",
    "from sklearn.preprocessing import LabelEncoder"
   ]
  },
  {
   "cell_type": "code",
   "execution_count": 3,
   "metadata": {},
   "outputs": [
    {
     "data": {
      "text/html": [
       "<div>\n",
       "<style scoped>\n",
       "    .dataframe tbody tr th:only-of-type {\n",
       "        vertical-align: middle;\n",
       "    }\n",
       "\n",
       "    .dataframe tbody tr th {\n",
       "        vertical-align: top;\n",
       "    }\n",
       "\n",
       "    .dataframe thead th {\n",
       "        text-align: right;\n",
       "    }\n",
       "</style>\n",
       "<table border=\"1\" class=\"dataframe\">\n",
       "  <thead>\n",
       "    <tr style=\"text-align: right;\">\n",
       "      <th></th>\n",
       "      <th>Text</th>\n",
       "    </tr>\n",
       "  </thead>\n",
       "  <tbody>\n",
       "    <tr>\n",
       "      <th>0</th>\n",
       "      <td>Are you unique enough? Find out from 30th Augu...</td>\n",
       "    </tr>\n",
       "  </tbody>\n",
       "</table>\n",
       "</div>"
      ],
      "text/plain": [
       "                                                Text\n",
       "0  Are you unique enough? Find out from 30th Augu..."
      ]
     },
     "execution_count": 3,
     "metadata": {},
     "output_type": "execute_result"
    }
   ],
   "source": [
    "data = pd.DataFrame(columns=['Text'])\n",
    "data.loc[len(data.index)] = [\"\"\"Are you unique enough? Find out from 30th August. www.areyouunique.co.uk\"\"\"]\n",
    "data.head()"
   ]
  },
  {
   "cell_type": "code",
   "execution_count": 4,
   "metadata": {},
   "outputs": [
    {
     "name": "stderr",
     "output_type": "stream",
     "text": [
      "/Users/hvn/Documents/teko/HN17/email-check-spam/.venv/lib/python3.11/site-packages/tqdm/auto.py:21: TqdmWarning: IProgress not found. Please update jupyter and ipywidgets. See https://ipywidgets.readthedocs.io/en/stable/user_install.html\n",
      "  from .autonotebook import tqdm as notebook_tqdm\n"
     ]
    }
   ],
   "source": [
    "from sentence_transformers import SentenceTransformer\n",
    "embedModel = SentenceTransformer('all-MiniLM-L6-v2')"
   ]
  },
  {
   "cell_type": "code",
   "execution_count": 7,
   "metadata": {},
   "outputs": [
    {
     "name": "stdout",
     "output_type": "stream",
     "text": [
      "[[ 2.47741453e-02 -5.32226004e-02  2.42042635e-03 -5.54051483e-03\n",
      "  -3.34552079e-02  2.37552654e-02  4.26390506e-02 -1.11282431e-01\n",
      "  -3.65333296e-02 -6.56789541e-02  3.53258587e-02 -6.33766875e-02\n",
      "   3.12248394e-02 -4.59305085e-02 -2.37224437e-02 -1.82227371e-03\n",
      "   5.82648143e-02 -3.01917400e-02 -7.39811435e-02 -9.58054662e-02\n",
      "  -9.03363600e-02 -3.49352546e-02 -3.55055146e-02  5.77573255e-02\n",
      "  -5.52176014e-02  3.33809219e-02  2.18355581e-02  7.08624348e-02\n",
      "   5.20253330e-02 -4.31526452e-02  1.37339560e-02  1.36410948e-02\n",
      "  -1.86971854e-02 -1.66294968e-03  8.91565979e-02  7.43434951e-02\n",
      "   2.23060008e-02 -1.03098422e-01 -4.61309254e-02  4.14303392e-02\n",
      "  -8.26507509e-02 -9.83060226e-02  5.38873039e-02 -3.72444279e-03\n",
      "   3.82424705e-02  3.12133674e-02  3.35201574e-03  1.27107045e-02\n",
      "  -6.07508719e-02  6.18792735e-02  9.19677839e-02  1.36369718e-02\n",
      "   5.12325503e-02 -7.63213634e-02  3.02678682e-02  4.28145975e-02\n",
      "  -7.92267621e-02 -7.30906671e-04 -3.70629542e-02 -5.83989657e-02\n",
      "  -7.59279495e-03  4.06828895e-02 -4.69690375e-02  3.09837088e-02\n",
      "  -1.22178001e-02 -3.95247974e-02  1.08438730e-02  2.25939434e-02\n",
      "   6.91965148e-02 -9.13873911e-02  3.53806168e-02 -3.30411717e-02\n",
      "   2.49602217e-02  9.85956565e-02  6.53790310e-02  7.78764859e-02\n",
      "  -5.50608337e-03  2.36185477e-03 -3.77538987e-02  5.72097078e-02\n",
      "  -4.13859170e-03 -7.04548582e-02 -4.25180271e-02 -3.07369456e-02\n",
      "   1.10559920e-02 -1.13678053e-01  3.79608944e-03  5.71741611e-02\n",
      "  -5.56212179e-02 -1.55082373e-02 -1.37586882e-02  6.64530993e-02\n",
      "  -4.27139737e-02  1.72462862e-03 -1.36818634e-02 -6.56095520e-02\n",
      "   4.89850193e-02  2.21845657e-02  1.07773487e-02  2.41746586e-02\n",
      "  -2.95746401e-02  9.69165564e-02 -6.44459352e-02  9.17047858e-02\n",
      "  -3.54069397e-02  2.21686047e-02 -7.38859102e-02  6.73243701e-02\n",
      "   8.43735337e-02 -5.31400852e-02 -4.30572219e-02  7.84560759e-03\n",
      "  -1.60210934e-02 -4.96411771e-02  7.34988227e-02 -4.72018719e-02\n",
      "   2.53510065e-02  6.22887863e-03  4.55493405e-02  1.57324262e-02\n",
      "   3.08291670e-02  7.90254474e-02 -3.27840783e-02  1.05120437e-02\n",
      "  -3.78541648e-02 -2.21830364e-02  4.20452766e-02 -1.23894331e-33\n",
      "   3.50033268e-02  1.01758860e-01  4.51894999e-02  3.72791290e-02\n",
      "   3.44030745e-03  6.26344280e-03 -6.35445267e-02  1.77231468e-02\n",
      "  -7.04034939e-02  2.28819754e-02  3.89137771e-03  2.52509024e-02\n",
      "   3.58776152e-02 -3.75757478e-02 -2.38654613e-02  4.44435030e-02\n",
      "   4.93490957e-02 -3.53702754e-02 -3.07039563e-02  9.97381378e-03\n",
      "  -3.68666016e-02 -1.44657893e-02 -5.85047819e-04 -2.50595957e-02\n",
      "  -2.04164702e-02 -2.34702919e-02  1.15812877e-02  6.30191062e-03\n",
      "   8.41412842e-02  2.54487861e-02  7.45875984e-02 -2.34564859e-02\n",
      "  -9.47954357e-02 -4.79797721e-02 -5.88214546e-02  1.62318500e-03\n",
      "   4.27107885e-02 -1.12578049e-01  2.20825579e-02 -2.92600058e-02\n",
      "  -1.75874531e-02 -2.63408478e-02 -1.88592337e-02 -5.14900535e-02\n",
      "   3.14017422e-02  9.23026204e-02  1.66594423e-02 -7.09022209e-02\n",
      "   1.09525748e-01 -3.89411300e-02 -6.30766749e-02 -4.52727228e-02\n",
      "  -9.34154391e-02 -2.69260742e-02  2.92916074e-02 -6.19366504e-02\n",
      "  -5.13683408e-02  1.99677590e-02  5.16097769e-02 -5.72560355e-02\n",
      "   7.98434168e-02  3.10877711e-02 -8.69070217e-02  2.16242317e-02\n",
      "  -1.00130141e-01 -1.15514569e-01  3.95006798e-02  1.29993970e-03\n",
      "   1.18696876e-02 -8.23156442e-03  2.33115107e-02  2.30534598e-02\n",
      "   2.88762245e-02 -8.77872854e-02  2.41941102e-02  3.54072340e-02\n",
      "   3.35062034e-02  3.57567109e-02  1.05056867e-01  1.15489289e-01\n",
      "  -1.16778845e-02  1.42183900e-01  4.12157997e-02 -1.64680332e-02\n",
      "   3.40291075e-02 -3.44290510e-02  5.06196171e-02 -8.98063555e-02\n",
      "  -1.01341018e-02  3.98437604e-02 -1.34379668e-02  4.04184591e-03\n",
      "   9.93426144e-02 -1.55046778e-02 -1.87214818e-02 -2.20004108e-33\n",
      "  -3.77430134e-02  1.86128430e-02  9.65278670e-02  2.33005341e-02\n",
      "   2.19395291e-02  1.96330231e-02  2.83463243e-02  5.19198999e-02\n",
      "   4.44386667e-03  1.03793442e-01  1.45105012e-02  7.21365735e-02\n",
      "   2.90096533e-02 -4.56601158e-02 -2.40683760e-02 -2.86768414e-02\n",
      "   3.57441753e-02  3.03281173e-02  1.47061152e-02  4.26041707e-03\n",
      "  -5.13879433e-02  6.63702935e-02 -2.07613185e-02 -6.84310868e-02\n",
      "   3.04466803e-02 -3.41588967e-02  1.76458433e-02 -3.84009853e-02\n",
      "  -1.18299229e-02 -7.68121406e-02  2.72910967e-02  3.26173119e-02\n",
      "  -1.11407503e-01 -1.55853117e-02 -1.51359038e-02  1.00223813e-02\n",
      "   1.41159073e-02 -6.11396506e-02 -9.88909416e-03  5.42045459e-02\n",
      "  -6.83875084e-02 -3.46239246e-02 -9.28853974e-02  3.90424617e-02\n",
      "   5.89584513e-03 -7.91274831e-02  1.18971821e-02 -9.83743649e-03\n",
      "   4.09792140e-02  1.82386190e-02  6.42225817e-02  9.92684346e-03\n",
      "  -2.46319603e-02 -3.60877104e-02  8.40780511e-02 -6.31619757e-03\n",
      "  -2.53280979e-02 -1.21888900e-02  1.18718324e-02 -7.16518424e-03\n",
      "  -1.29204628e-03  7.60766193e-02 -6.30168542e-02  5.42085394e-02\n",
      "   3.65476571e-02 -1.29349008e-02  1.17873829e-02  8.18364695e-02\n",
      "  -7.51197338e-02  9.69871692e-03 -2.75366195e-02 -8.11068118e-02\n",
      "  -1.21702038e-01 -4.21376340e-02 -5.08067571e-02 -9.65063572e-02\n",
      "   7.74928927e-02 -3.07575464e-02 -7.39961565e-02 -9.69093526e-04\n",
      "  -6.50060326e-02  3.17899100e-02  3.43566872e-02  1.93751715e-02\n",
      "   2.33353022e-03 -2.58044899e-02  1.45983621e-02  4.14722376e-02\n",
      "   4.80921380e-02  2.62243524e-02  8.58467631e-03  6.48688003e-02\n",
      "  -1.03376657e-01 -1.17290756e-02  1.88662335e-02 -2.21944187e-08\n",
      "   6.30087927e-02  5.50970584e-02 -4.57231589e-02  3.69715169e-02\n",
      "   3.53808911e-03 -1.10374287e-01  5.68942539e-03  1.40266996e-02\n",
      "  -4.14195433e-02  2.43949220e-02  5.12641072e-02 -2.76306868e-02\n",
      "  -5.34048676e-02 -1.34975761e-02  1.26662375e-02 -3.08121648e-02\n",
      "  -2.34709717e-02 -1.60761233e-02  2.30198894e-02 -8.64758808e-03\n",
      "   1.15868933e-02  1.23339653e-01  2.86359303e-02 -4.88586836e-02\n",
      "  -7.76620060e-02 -3.39532504e-03  4.90180366e-02 -2.56496668e-03\n",
      "  -2.17125881e-02 -4.94225733e-02 -2.55218465e-02  2.56254580e-02\n",
      "  -2.95907184e-02 -3.62732112e-02 -4.69359308e-02 -7.37991184e-02\n",
      "  -1.78997181e-02  3.56037356e-02 -7.07399696e-02 -9.39060599e-02\n",
      "   1.67923085e-02 -4.65900600e-02  5.06942011e-02  1.16649203e-01\n",
      "  -3.68898027e-02  4.64062132e-02 -3.60454991e-02 -8.60986486e-02\n",
      "  -2.52472702e-02 -4.15750071e-02 -7.70348236e-02 -2.36387495e-02\n",
      "   1.17191114e-01  4.55961414e-02  4.72056493e-02  1.67355500e-02\n",
      "  -1.87009480e-02 -3.48290987e-02  4.92654145e-02  1.36198020e-02\n",
      "   8.98573101e-02 -7.04215690e-02 -7.27340803e-02 -2.43564267e-02]]\n"
     ]
    }
   ],
   "source": [
    "def Clean(Text):\n",
    "    sms = re.sub('[^a-zA-Z]', ' ', Text) #Replacing all non-alphabetic characters with a space\n",
    "    sms = sms.lower() #converting to lowecase\n",
    "    sms = sms.split()\n",
    "    sms = ' '.join(sms)\n",
    "    return sms\n",
    "\n",
    "data[\"Clean_Text\"] = data[\"Text\"].apply(Clean)\n",
    "\n",
    "X = embedModel.encode(data[\"Clean_Text\"].values.tolist())\n",
    "\n",
    "print(X)"
   ]
  },
  {
   "cell_type": "code",
   "execution_count": 6,
   "metadata": {},
   "outputs": [
    {
     "name": "stdout",
     "output_type": "stream",
     "text": [
      "spam\n"
     ]
    }
   ],
   "source": [
    "result = loaded_model.predict(X)[0]\n",
    "if result == 1:\n",
    "    print(\"spam\")\n",
    "else:\n",
    "    print(\"ham\")"
   ]
  },
  {
   "cell_type": "code",
   "execution_count": null,
   "metadata": {},
   "outputs": [],
   "source": []
  }
 ],
 "metadata": {
  "kernelspec": {
   "display_name": ".venv",
   "language": "python",
   "name": "python3"
  },
  "language_info": {
   "codemirror_mode": {
    "name": "ipython",
    "version": 3
   },
   "file_extension": ".py",
   "mimetype": "text/x-python",
   "name": "python",
   "nbconvert_exporter": "python",
   "pygments_lexer": "ipython3",
   "version": "3.11.4"
  },
  "orig_nbformat": 4
 },
 "nbformat": 4,
 "nbformat_minor": 2
}
